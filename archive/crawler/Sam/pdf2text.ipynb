{
 "cells": [
  {
   "cell_type": "code",
   "execution_count": 4,
   "id": "52e9bb0a",
   "metadata": {},
   "outputs": [],
   "source": [
    "import boto3\n",
    "import time\n",
    "\n",
    "\n",
    "def extract_text(bucket_name, file_name):\n",
    "    textract = boto3.client('textract', region_name='ap-southeast-2')\n",
    "    response = textract.start_document_text_detection(\n",
    "        DocumentLocation={'S3Object': {'Bucket': bucket_name, 'Name': file_name}}\n",
    "    )\n",
    "\n",
    "    job_id = response['JobId']\n",
    "#     print(f\"Text detection job started with ID: {job_id}\")\n",
    "\n",
    "    status = \"IN_PROGRESS\"\n",
    "    while status == \"IN_PROGRESS\":\n",
    "#         print(\"Waiting for Textract to process the document...\")\n",
    "        time.sleep(1)  # Wait 1 seconds before polling again\n",
    "        response = textract.get_document_text_detection(JobId=job_id)\n",
    "        status = response['JobStatus']\n",
    "#         print(f\"Current Job Status: {status}\")\n",
    "\n",
    "    # Step 3: Extract and print lines of text\n",
    "    text_lines = []\n",
    "    if status == \"SUCCEEDED\":\n",
    "        for block in response['Blocks']:\n",
    "            if block['BlockType'] == 'LINE':  # Focus only on text lines\n",
    "                text_lines.append(block['Text'])\n",
    "    return \"\\n\".join(text_lines)"
   ]
  },
  {
   "cell_type": "code",
   "execution_count": 5,
   "id": "5f2acf49",
   "metadata": {},
   "outputs": [],
   "source": [
    "bucket_name = \"data15group3-resumes-pdf\"\n",
    "file_name = \"HaydenSmith.pdf\"\n",
    "resume = extract_text(bucket_name, file_name)"
   ]
  },
  {
   "cell_type": "code",
   "execution_count": null,
   "id": "84d037d1",
   "metadata": {},
   "outputs": [],
   "source": []
  },
  {
   "cell_type": "code",
   "execution_count": null,
   "id": "ebde774d",
   "metadata": {},
   "outputs": [],
   "source": []
  }
 ],
 "metadata": {
  "kernelspec": {
   "display_name": "Python 3 (ipykernel)",
   "language": "python",
   "name": "python3"
  },
  "language_info": {
   "codemirror_mode": {
    "name": "ipython",
    "version": 3
   },
   "file_extension": ".py",
   "mimetype": "text/x-python",
   "name": "python",
   "nbconvert_exporter": "python",
   "pygments_lexer": "ipython3",
   "version": "3.9.18"
  }
 },
 "nbformat": 4,
 "nbformat_minor": 5
}
